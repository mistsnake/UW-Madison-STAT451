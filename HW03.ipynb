{
 "cells": [
  {
   "cell_type": "markdown",
   "id": "8163daf4",
   "metadata": {},
   "source": [
    "### HW03: Practice with SVM, kNN, gradient descent, feature engineering\n",
    "\n",
    "Anais Corona Perez (NetID: coronaperez)"
   ]
  },
  {
   "cell_type": "code",
   "execution_count": 1,
   "id": "f6a87448",
   "metadata": {},
   "outputs": [],
   "source": [
    "import pandas as pd\n",
    "from io import StringIO\n",
    "from sklearn import svm\n",
    "import matplotlib.pyplot as plt\n",
    "import numpy as np\n",
    "from sklearn.tree import DecisionTreeClassifier, export_text\n",
    "from sklearn.neighbors import KNeighborsClassifier\n",
    "from sklearn.neighbors import KNeighborsRegressor\n",
    "from sklearn.preprocessing import StandardScaler"
   ]
  },
  {
   "cell_type": "markdown",
   "id": "f90946b9",
   "metadata": {},
   "source": [
    "## 1. Visualize classifier decision boundaries."
   ]
  },
  {
   "cell_type": "markdown",
   "id": "69ca3839",
   "metadata": {},
   "source": [
    "## 1a. Complete the function in the next cell that plots a classifier's decision boundary.\n",
    "Or, rather, it plots a classifier's decisions over an area, revealing the boundary.\n",
    "\n",
    "Hint: My solution used 10 lines:\n",
    "- Make linspaces of grid_resolution points in xlim and grid_resolution points in ylim.\n",
    "  e.g. For xlim=(-1, 1), ylim=(0, 2) and grid_resolution=3, make the linspace\n",
    "  (-1, 0, 1) of x coordinates and the linspace (0, 1, 2) of y coordinates.\n",
    "- Use np.tile() to repeat the x grid points grid_resolution times\n",
    "  (e.g. (-1, 0, 1, -1, 0, 1, -1, 0, 1)) and np.repeat() to repeat each of the y grid\n",
    "  points grid_resolution times (e.g. (0, 0, 0, 1, 1, 1, 2, 2, 2)).\n",
    "- Use np.stack() to combine the x grid points and y grid points into a 2D array of\n",
    "  size grid_resolution$^2$ x 2. (e.g.\n",
    "  [[-1, 0],\n",
    "   [0, 0],\n",
    "   [1, 0],\n",
    "   [-1, 1],\n",
    "   [0, 1],\n",
    "   [1, 1],\n",
    "   [-1, 2],\n",
    "   [0, 2],\n",
    "   [1, 2]]\n",
    "  )\n",
    "- Use pd.DataFrame(), setting its `columns` parameter to `clf.feature_names_in_`, to get a DataFrame.\n",
    "- Make a dictionary keyed by -1 and 1 with values 'pink' and 'lightskyblue'.\n",
    "- Use clf.predict() on the 2D array of points to get predicted y values.\n",
    "- For each y in {-1, 1}, use plt.plot() to plot those points in your 2D array\n",
    "  with that predicted y value in the color specified by your dictionary."
   ]
  },
  {
   "cell_type": "code",
   "execution_count": 2,
   "id": "248a1006",
   "metadata": {},
   "outputs": [],
   "source": [
    "def plot_decision_boundary(clf, xlim, ylim, grid_resolution):\n",
    "    \"\"\"Display how clf classifies each point in the space specified by xlim and ylim.\n",
    "    \n",
    "    - clf is a classifier (already fit to data).\n",
    "    - xlim and ylim are each 2-tuples of the form (low, high).\n",
    "    - grid_resolution specifies the number of points into which the xlim is divided\n",
    "      and the number into which the ylim interval is divided. The function plots\n",
    "      grid_resolution * grid_resolution points.\"\"\"\n",
    "    \n",
    "    x = np.tile(np.linspace(xlim[0], xlim[1], grid_resolution), grid_resolution)\n",
    "    y = np.repeat(np.linspace(ylim[0], ylim[1], grid_resolution), grid_resolution)\n",
    "    pairs = np.stack((x, y), 1)\n",
    "    df = pd.DataFrame(pairs, columns = clf.feature_names_in_)\n",
    "    colors = {-1: 'pink', 1: 'lightskyblue'}\n",
    "    pred = clf.predict(pairs)\n",
    "    #go through each x0, x1 pair and plot in the correct color\n",
    "    for i in range(0, len(pred)):\n",
    "        plt.plot(df['x0'][i], df['x1'][i], '.', color = colors[pred[i]])\n",
    "    "
   ]
  },
  {
   "cell_type": "markdown",
   "id": "bac5562e",
   "metadata": {},
   "source": [
    "### Visualize the decision boundary for an SVM.\n",
    "Here I have provided test code for your function to visualize the decision boundary for the SVM\n",
    "under the header \"Now try 2D toy data\" inhttps://pages.stat.wisc.edu/~jgillett/451/burkov/01/01separatingHyperplane.html.\n",
    "\n",
    "Recall: That SVM's decision boundary was $y = -x + \\frac{1}{2}$, so your function should make a plot with lightskyblue above that line and pink below that line. Then my code adds the data points in blue and red.\n",
    "\n",
    "There is nothing for you to do in this step, provided you implemented the required function above.\n",
    "\n"
   ]
  },
  {
   "cell_type": "code",
   "execution_count": 3,
   "id": "c214c15a",
   "metadata": {},
   "outputs": [
    {
     "name": "stderr",
     "output_type": "stream",
     "text": [
      "/Users/anaiscoronaperez/anaconda3/lib/python3.10/site-packages/sklearn/base.py:420: UserWarning: X does not have valid feature names, but SVC was fitted with feature names\n",
      "  warnings.warn(\n"
     ]
    },
    {
     "data": {
      "image/png": "[encoded data removed]",
      "text/plain": [
       "<Figure size 640x480 with 1 Axes>"
      ]
     },
     "metadata": {},
     "output_type": "display_data"
    }
   ],
   "source": [
    "data_string = \"\"\"\n",
    "x0, x1,  y\n",
    " 0,  0, -1\n",
    "-1,  1, -1\n",
    " 1, -1, -1\n",
    " 0,  1,  1\n",
    " 1,  1,  1\n",
    " 1,  0,  1\n",
    "\"\"\"\n",
    "df = pd.read_csv(StringIO(data_string), sep='\\s*,\\s+', engine='python')\n",
    "clf = svm.SVC(kernel=\"linear\", C=1000)\n",
    "clf.fit(df[['x0', 'x1']], df['y'])\n",
    "\n",
    "# Call student's function.\n",
    "plot_decision_boundary(clf=clf, xlim=(-4, 4), ylim=(-4, 4), grid_resolution=100)\n",
    "# Add training examples to plot.\n",
    "colors = {-1:'red', 1:'blue'}\n",
    "for y in (-1, 1):\n",
    "    plt.plot(df.x0[df.y == y], df.x1[df.y == y], '.', color=colors[y])"
   ]
  },
  {
   "cell_type": "markdown",
   "id": "e042c87d",
   "metadata": {},
   "source": [
    "### 1b. Visualize the decision boundary for a decision tree.\n",
    "- Make a decision tree classifier on the same df used above.\n",
    "  (Use criterion='entropy', max_depth=None, random_state=0.)\n",
    "- Use print(export_text()) to print a text version of your tree.\n",
    "- Copy the last few lines of the cell above to make the plot.\n",
    "- Study the tree and plot until you understand how the plot represents the decisions in the tree."
   ]
  },
  {
   "cell_type": "code",
   "execution_count": 4,
   "id": "efd78209",
   "metadata": {},
   "outputs": [
    {
     "name": "stdout",
     "output_type": "stream",
     "text": [
      "|--- x1 <= -0.50\n",
      "|   |--- class: -1\n",
      "|--- x1 >  -0.50\n",
      "|   |--- x0 <= 0.50\n",
      "|   |   |--- x0 <= -0.50\n",
      "|   |   |   |--- class: -1\n",
      "|   |   |--- x0 >  -0.50\n",
      "|   |   |   |--- x1 <= 0.50\n",
      "|   |   |   |   |--- class: -1\n",
      "|   |   |   |--- x1 >  0.50\n",
      "|   |   |   |   |--- class: 1\n",
      "|   |--- x0 >  0.50\n",
      "|   |   |--- class: 1\n",
      "\n"
     ]
    },
    {
     "name": "stderr",
     "output_type": "stream",
     "text": [
      "/Users/anaiscoronaperez/anaconda3/lib/python3.10/site-packages/sklearn/base.py:420: UserWarning: X does not have valid feature names, but DecisionTreeClassifier was fitted with feature names\n",
      "  warnings.warn(\n"
     ]
    },
    {
     "data": {
      "image/png": "[encoded data removed]",
      "text/plain": [
       "<Figure size 640x480 with 1 Axes>"
      ]
     },
     "metadata": {},
     "output_type": "display_data"
    }
   ],
   "source": [
    "# Train and print tree\n",
    "clf = DecisionTreeClassifier(criterion = 'entropy', max_depth = None, random_state = 0).fit(df[['x0', 'x1']], df['y'])\n",
    "print(export_text(clf, feature_names = ['x0', 'x1']))\n",
    "\n",
    "# Plot\n",
    "plot_decision_boundary(clf=clf, xlim=(-4, 4), ylim=(-4, 4), grid_resolution=100)\n",
    "for y in (-1, 1):\n",
    "    plt.plot(df.x0[df.y == y], df.x1[df.y == y], '.', color=colors[y])"
   ]
  },
  {
   "cell_type": "markdown",
   "id": "4774c923",
   "metadata": {},
   "source": [
    "### 1c. Visualize the decision boundary for kNN with $k=3$.\n",
    "- Make a kNN classifier on the same df used above. (Use n_neighbors=3 and metric='euclidean'.)\n",
    "- Copy the plotting code again.\n",
    "\n",
    "(Experiment with $k=1$ and $k=2$ to see how the decision boundary varies with $k$ before setting $k=3$.)"
   ]
  },
  {
   "cell_type": "code",
   "execution_count": 5,
   "id": "de6876bc",
   "metadata": {},
   "outputs": [
    {
     "name": "stderr",
     "output_type": "stream",
     "text": [
      "/Users/anaiscoronaperez/anaconda3/lib/python3.10/site-packages/sklearn/base.py:420: UserWarning: X does not have valid feature names, but KNeighborsClassifier was fitted with feature names\n",
      "  warnings.warn(\n"
     ]
    },
    {
     "data": {
      "image/png": "[encoded data removed]",
      "text/plain": [
       "<Figure size 640x480 with 1 Axes>"
      ]
     },
     "metadata": {},
     "output_type": "display_data"
    }
   ],
   "source": [
    "# Train kNN model\n",
    "for i in range(len(df[['x0', 'x1']])):\n",
    "    knn = KNeighborsClassifier(n_neighbors = 3, metric = 'euclidean').fit(df[['x0', 'x1']], df['y'])\n",
    "\n",
    "# Plot\n",
    "plot_decision_boundary(clf=knn, xlim=(-4, 4), ylim=(-4, 4), grid_resolution=100)\n",
    "for y in (-1, 1):\n",
    "    plt.plot(df.x0[df.y == y], df.x1[df.y == y], '.', color=colors[y])"
   ]
  },
  {
   "cell_type": "markdown",
   "id": "9221e0d6",
   "metadata": {},
   "source": [
    "### 1d. Visualize the decision boundary for an SVM with a nonlinear boundary.\n",
    "Use the example under the header \"Nonlinear boundary: use kernel trick\" in https://pages.stat.wisc.edu/~jgillett/451/burkov/03/03SVM.html.\n",
    "- Read the data from http://www.stat.wisc.edu/~jgillett/451/data/circles.csv.\n",
    "  This \".csv\" file has y in {0, 1}, so change the 0 values to -1.\n",
    "- Fit an SVM with kernel='rbf', C=1, gamma=1/2.\n",
    "- Copy the last few lines of my plotting code, above, again (revising the axis limits) to make the boundary plot.\n",
    "\n",
    "(Experiment with $\\gamma = 2$, $\\gamma = 10$, and $\\gamma = 30$ to see how the decision boundary varies with gamma before setting gamma to 1/2.)"
   ]
  },
  {
   "cell_type": "code",
   "execution_count": 6,
   "id": "c8c242d6",
   "metadata": {},
   "outputs": [
    {
     "name": "stderr",
     "output_type": "stream",
     "text": [
      "/Users/anaiscoronaperez/anaconda3/lib/python3.10/site-packages/sklearn/base.py:420: UserWarning: X does not have valid feature names, but SVC was fitted with feature names\n",
      "  warnings.warn(\n"
     ]
    },
    {
     "data": {
      "image/png": "[encoded data removed]",
      "text/plain": [
       "<Figure size 640x480 with 1 Axes>"
      ]
     },
     "metadata": {},
     "output_type": "display_data"
    }
   ],
   "source": [
    "# Create dataframe\n",
    "df = pd.read_csv('http://www.stat.wisc.edu/~jgillett/451/data/circles.csv')\n",
    "df['y'] = df['y'].replace(0, -1)\n",
    "\n",
    "# Train svm model\n",
    "svm = svm.SVC(kernel = 'rbf', C = 1, gamma = 1/2).fit(df[['x0', 'x1']], df.y)\n",
    "\n",
    "# Plot\n",
    "plot_decision_boundary(clf=svm, xlim=(-6, 6), ylim=(-6, 6), grid_resolution=100)\n",
    "for y in (-1, 1):\n",
    "    plt.plot(df.x0[df.y == y], df.x1[df.y == y], '.', color=colors[y])"
   ]
  },
  {
   "cell_type": "markdown",
   "id": "ad290199",
   "metadata": {},
   "source": [
    "## 2. Run gradient descent by hand.\n",
    "Run gradient descent with $\\alpha = 0.1$ to minimize $z = f(x, y)\n",
    "= (x + 1)^2 + (y + 2)^2$. Start at (0, 0) and find the next two points\n",
    "on the descent path.\n",
    "\n",
    "Hint: The minimum is at (-1, -2), so your answer should be approaching this point."
   ]
  },
  {
   "cell_type": "markdown",
   "id": "bfbb764e",
   "metadata": {},
   "source": [
    "First, find $\\Delta f(x, y)$ and keep in mind $\\alpha$ and the equation to find $x_{i+1}$:\n",
    "\n",
    "$\n",
    "\\Delta f(x, y) = (2x+2, 2y+4) \\hspace{1cm} \\alpha = 0.1 \\hspace{1cm} x_{i+1} = x_i -\\alpha\\Delta f(x_i, y_i)\n",
    "$\n",
    "\n",
    "Now, start at (0,0) to find $x_1$:\n",
    "\n",
    "$\n",
    "x_0 = (0,0) \\hspace{1cm} \\Delta f(0, 0) = (2,4) \\hspace{1cm} -\\alpha\\Delta f(0, 0) = (-0.2, -0.4)\n",
    "$\n",
    "\n",
    "Continue using $x_1$:\n",
    "\n",
    "$\n",
    "x_1 = (-0.2, -0.4) \\hspace{1cm} \\Delta f(-0.2, -0.4) = (1.6, 3.2) \\hspace{1cm} -\\alpha\\Delta f(-0.2, -0.4) = (-0.16, -0.32)\n",
    "$\n",
    "\n",
    "Finally, we reach the second point on the descent path:\n",
    "\n",
    "$\n",
    "x_2 = (-0.36, -0.72)\n",
    "$"
   ]
  },
  {
   "cell_type": "markdown",
   "id": "c0099a3e",
   "metadata": {},
   "source": [
    "## 3. Practice feature engineering\n",
    "by exploring the fact that rescaling may be necessary for kNN but not for a decision tree."
   ]
  },
  {
   "cell_type": "markdown",
   "id": "b1a02dd0",
   "metadata": {},
   "source": [
    "### 3a. Read and plot a toy concentric ellipses data set.\n",
    "\n",
    "- Read the data from [http://www.stat.wisc.edu/~jgillett/451/data/ellipses.csv](http://www.stat.wisc.edu/~jgillett/451/data/ellipses.csv) into a DataFrame.\n",
    "- Display the first five rows.\n",
    "- Plot the data.\n",
    "  - Put x0 on the $x$ axis and x1 on the $y$ axis.\n",
    "  - Plot points with these colors:\n",
    "    - $y=0$: red\n",
    "    - $y=1$: blue\n",
    "  - Use $x$ and $y$ axis limits of $(-6, 6)$.\n",
    "  - Include a legend."
   ]
  },
  {
   "cell_type": "code",
   "execution_count": 7,
   "id": "76531b17",
   "metadata": {},
   "outputs": [
    {
     "data": {
      "text/html": [
       "<div>\n",
       "<style scoped>\n",
       "    .dataframe tbody tr th:only-of-type {\n",
       "        vertical-align: middle;\n",
       "    }\n",
       "\n",
       "    .dataframe tbody tr th {\n",
       "        vertical-align: top;\n",
       "    }\n",
       "\n",
       "    .dataframe thead th {\n",
       "        text-align: right;\n",
       "    }\n",
       "</style>\n",
       "<table border=\"1\" class=\"dataframe\">\n",
       "  <thead>\n",
       "    <tr style=\"text-align: right;\">\n",
       "      <th></th>\n",
       "      <th>x0</th>\n",
       "      <th>x1</th>\n",
       "      <th>y</th>\n",
       "    </tr>\n",
       "  </thead>\n",
       "  <tbody>\n",
       "    <tr>\n",
       "      <th>0</th>\n",
       "      <td>-1.937</td>\n",
       "      <td>-0.006</td>\n",
       "      <td>0</td>\n",
       "    </tr>\n",
       "    <tr>\n",
       "      <th>1</th>\n",
       "      <td>-1.622</td>\n",
       "      <td>-0.057</td>\n",
       "      <td>0</td>\n",
       "    </tr>\n",
       "    <tr>\n",
       "      <th>2</th>\n",
       "      <td>-0.791</td>\n",
       "      <td>-0.200</td>\n",
       "      <td>0</td>\n",
       "    </tr>\n",
       "    <tr>\n",
       "      <th>3</th>\n",
       "      <td>-0.614</td>\n",
       "      <td>-0.171</td>\n",
       "      <td>0</td>\n",
       "    </tr>\n",
       "    <tr>\n",
       "      <th>4</th>\n",
       "      <td>-0.490</td>\n",
       "      <td>-0.154</td>\n",
       "      <td>0</td>\n",
       "    </tr>\n",
       "  </tbody>\n",
       "</table>\n",
       "</div>"
      ],
      "text/plain": [
       "      x0     x1  y\n",
       "0 -1.937 -0.006  0\n",
       "1 -1.622 -0.057  0\n",
       "2 -0.791 -0.200  0\n",
       "3 -0.614 -0.171  0\n",
       "4 -0.490 -0.154  0"
      ]
     },
     "execution_count": 7,
     "metadata": {},
     "output_type": "execute_result"
    },
    {
     "data": {
      "image/png": "[encoded data removed]",
      "text/plain": [
       "<Figure size 640x480 with 1 Axes>"
      ]
     },
     "metadata": {},
     "output_type": "display_data"
    }
   ],
   "source": [
    "# Create dataframe\n",
    "df = pd.read_csv('http://www.stat.wisc.edu/~jgillett/451/data/ellipses.csv')\n",
    "\n",
    "# Plot\n",
    "colors = {0:'red', 1:'blue'}\n",
    "for y in (0, 1):\n",
    "    plt.plot(df.x0[df.y == y], df.x1[df.y == y], '.', color=colors[y], label = f'y = {y}')\n",
    "plt.legend()\n",
    "plt.xlim(-6,6)\n",
    "plt.ylim(-6,6)\n",
    "plt.xlabel('x0')\n",
    "plt.ylabel('x1')\n",
    "\n",
    "# Display first five rows\n",
    "df.head(5)\n"
   ]
  },
  {
   "cell_type": "markdown",
   "id": "dbea1c92",
   "metadata": {},
   "source": [
    "### 3b. Train a $k$NN classifier and report its accuracy.\n",
    "- Use $k = 3$ and the (default) euclidean metric.\n",
    "- Report the accuracy on the training data by writing a line like `Training accuracy is 0.500`\n",
    "  (0.500 may not be correct)."
   ]
  },
  {
   "cell_type": "code",
   "execution_count": 8,
   "id": "a890db07",
   "metadata": {},
   "outputs": [
    {
     "name": "stdout",
     "output_type": "stream",
     "text": [
      "Training accuracy is: 0.725\n"
     ]
    }
   ],
   "source": [
    "X = df[['x0', 'x1']]\n",
    "y = df['y']\n",
    "\n",
    "# Train kNN model and report accuracy\n",
    "for i in range(len(df[['x0', 'x1']])):\n",
    "    knn = KNeighborsClassifier(n_neighbors = 3, metric = 'euclidean').fit(X, y)\n",
    "print(f'Training accuracy is: {knn.score(X, y)}')"
   ]
  },
  {
   "cell_type": "markdown",
   "id": "70e61223",
   "metadata": {},
   "source": [
    "### 3c. Now rescale the features using standardization; plot, train, and report accuracy again.\n",
    "- Fit the scaler to the training features.\n",
    "- Transform the training features.\n",
    "- Plot the rescaled data.\n",
    "- Train kNN again and report its accuracy as before. (Notice that rescaling helped.)"
   ]
  },
  {
   "cell_type": "code",
   "execution_count": 9,
   "id": "21e491c8",
   "metadata": {},
   "outputs": [
    {
     "name": "stdout",
     "output_type": "stream",
     "text": [
      "Training accuracy for rescaled features is: 1.0\n"
     ]
    },
    {
     "data": {
      "text/plain": [
       "Text(0, 0.5, 'x1')"
      ]
     },
     "execution_count": 9,
     "metadata": {},
     "output_type": "execute_result"
    },
    {
     "data": {
      "image/png": "[encoded data removed]",
      "text/plain": [
       "<Figure size 640x480 with 1 Axes>"
      ]
     },
     "metadata": {},
     "output_type": "display_data"
    }
   ],
   "source": [
    "# Rescale features and place in a new dataframe\n",
    "df_rescaled = df\n",
    "X_scaled = StandardScaler().fit_transform(X)\n",
    "df_rescaled['x0'] = X_scaled[:,0]\n",
    "df_rescaled['x1'] = X_scaled[:,1]\n",
    "\n",
    "# Train kNN model and print accuracy\n",
    "X = df_rescaled[['x0', 'x1']]\n",
    "y = df_rescaled['y']\n",
    "\n",
    "for i in range(len(df[['x0', 'x1']])):\n",
    "    knn = KNeighborsClassifier(n_neighbors = 3, metric = 'euclidean').fit(X, y)\n",
    "    \n",
    "print(f'Training accuracy for rescaled features is: {knn.score(X, y)}')\n",
    "\n",
    "# Plot\n",
    "colors = {0:'red', 1:'blue'}\n",
    "for y in (0, 1):\n",
    "    plt.plot(df_rescaled.x0[df.y == y], df_rescaled.x1[df.y == y], '.', color=colors[y], label = f'y = {y}')\n",
    "plt.legend()\n",
    "plt.xlim(-6,6)\n",
    "plt.ylim(-6,6)\n",
    "plt.xlabel('x0')\n",
    "plt.ylabel('x1')"
   ]
  },
  {
   "cell_type": "markdown",
   "id": "dbc60b17",
   "metadata": {},
   "source": [
    "### 3d. Train a decision tree classifier on the original (unscaled) data and report its accuracy.\n",
    "- Train on the training data.\n",
    "- Report the accuracy as before."
   ]
  },
  {
   "cell_type": "code",
   "execution_count": 10,
   "id": "cfd5563e",
   "metadata": {},
   "outputs": [
    {
     "name": "stdout",
     "output_type": "stream",
     "text": [
      "Training accuracy is: 1.0\n"
     ]
    }
   ],
   "source": [
    "# Train tree and print accuracy\n",
    "X = df[['x0', 'x1']]\n",
    "y = df['y']\n",
    "\n",
    "clf = DecisionTreeClassifier(criterion = 'entropy', max_depth = None, random_state = 0).fit(X, y)\n",
    "\n",
    "print(f'Training accuracy is: {clf.score(X, y)}')\n"
   ]
  },
  {
   "cell_type": "code",
   "execution_count": 11,
   "id": "919899f9",
   "metadata": {},
   "outputs": [
    {
     "name": "stdout",
     "output_type": "stream",
     "text": [
      "Training accuracy on rescaled data is: 1.0\n"
     ]
    }
   ],
   "source": [
    "# Train tree on rescaled data and print accuracy\n",
    "X = df_rescaled[['x0', 'x1']]\n",
    "y = df_rescaled['y']\n",
    "\n",
    "clf = DecisionTreeClassifier(criterion = 'entropy', max_depth = None, random_state = 0).fit(X, y)\n",
    "\n",
    "print(f'Training accuracy on rescaled data is: {clf.score(X, y)}')"
   ]
  },
  {
   "cell_type": "markdown",
   "id": "797b8763",
   "metadata": {},
   "source": [
    "### 3e. Why is feature scaling unnecessary for an ID3 decision tree? Answer in a markdown cell."
   ]
  },
  {
   "cell_type": "markdown",
   "id": "e8de25a3",
   "metadata": {},
   "source": [
    "kNN requires feature scaling as it depends on distance for classification, decision trees do not. Regardless if the features are scaled or not, the tree will adapt appropriately to the data and provide equal accuracy on either the scaled or unscaled data since the values provided to the equations: $f_{ID3}(S)$, $H(S)$, and $S(S_-, S_+)$ will give the appropriate feature, threshold pair on which to split the tree."
   ]
  }
 ],
 "metadata": {
  "celltoolbar": "Tags",
  "kernelspec": {
   "display_name": "Python 3 (ipykernel)",
   "language": "python",
   "name": "python3"
  },
  "language_info": {
   "codemirror_mode": {
    "name": "ipython",
    "version": 3
   },
   "file_extension": ".py",
   "mimetype": "text/x-python",
   "name": "python",
   "nbconvert_exporter": "python",
   "pygments_lexer": "ipython3",
   "version": "3.10.9"
  }
 },
 "nbformat": 4,
 "nbformat_minor": 5
}
